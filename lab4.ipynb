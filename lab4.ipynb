{
 "cells": [
  {
   "cell_type": "code",
   "execution_count": 1,
   "metadata": {},
   "outputs": [],
   "source": [
    "import pandas as pd\n",
    "import networkx as nx\n",
    "import matplotlib.pyplot as plt\n",
    "import requests"
   ]
  },
  {
   "cell_type": "code",
   "execution_count": 2,
   "metadata": {},
   "outputs": [
    {
     "output_type": "execute_result",
     "data": {
      "text/plain": [
       "      Type SFlowAgentAddr  InputPort  OutputPort        srcMAC        dstMAC  \\\n",
       "0     FLOW    aa.aa.aa.aa        258          20  204e71cf1b0f  002438aa0a00   \n",
       "1     FLOW    aa.aa.aa.aa        258          20  204e71cf1b0f  002438aa0a00   \n",
       "2     FLOW    aa.aa.aa.aa        258          20  204e71cf1b0f  002438aa0a00   \n",
       "3     FLOW    aa.aa.aa.aa        258          20  204e71cf1b0f  002438aa0a00   \n",
       "4     FLOW    aa.aa.aa.aa        258          20  204e71cf1b0f  002438aa0a00   \n",
       "...    ...            ...        ...         ...           ...           ...   \n",
       "1195  FLOW    aa.aa.aa.aa         19          21  e00eda07c0ff  28c0da0117ca   \n",
       "1196  FLOW    aa.aa.aa.aa          3          14  00235ed9b680  8cb64fe6b643   \n",
       "1197  FLOW    aa.aa.aa.aa          3          14  00235ed9b680  8cb64fe6b643   \n",
       "1198  FLOW    aa.aa.aa.aa        258         130  204e71cf1b0f  00239cd087c1   \n",
       "1199  FLOW    aa.aa.aa.aa        258         199  204e71cf1b0f  ccef48570144   \n",
       "\n",
       "     EthernetType  InVLAN  OutVLAN            SrcIP           DstIP  \\\n",
       "0          0x0800  3012.0     3012     152.3.219.19    198.71.44.98   \n",
       "1          0x0800  3012.0     3012     152.3.219.19    198.71.44.98   \n",
       "2          0x0800  3012.0     3012     152.3.219.19    198.71.44.98   \n",
       "3          0x0800  3012.0     3012     152.3.219.19    198.71.44.98   \n",
       "4          0x0800  3012.0     3012     152.3.219.19    198.71.44.98   \n",
       "...           ...     ...      ...              ...             ...   \n",
       "1195       0x0800   102.0     2121   202.21.158.254  175.156.15.109   \n",
       "1196       0x0800   691.0      691    123.136.64.58    165.21.83.88   \n",
       "1197       0x0800   691.0      691     202.6.242.63  198.143.33.121   \n",
       "1198       0x0800   537.0      919     171.67.76.38    137.132.3.10   \n",
       "1199       0x0800   537.0      601  207.241.228.157    210.48.222.9   \n",
       "\n",
       "      IPProtocol IpTOS  IpTTL  UDPSrcPort  UDPDstPort TCPFlags  PacketSize  \\\n",
       "0             50  0x00    245         0.0           0     0x00        1518   \n",
       "1             50  0x00    245         0.0           0     0x00        1518   \n",
       "2             50  0x00    245         0.0           0     0x00        1518   \n",
       "3             50  0x00    245         0.0           0     0x00        1518   \n",
       "4             50  0x00    245         0.0           0     0x00        1518   \n",
       "...          ...   ...    ...         ...         ...      ...         ...   \n",
       "1195          47  0x00    124     32665.0         443     0x10        1459   \n",
       "1196          17  0x00    121     42128.0          53     0x10          91   \n",
       "1197           6  0x00    124       443.0       42215     0x10        1522   \n",
       "1198           6  0x00     56        80.0        2182     0x10        1522   \n",
       "1199           6  0x00     56       443.0       57424     0x10        1522   \n",
       "\n",
       "      IPSize  SamplingRate  \n",
       "0       1496          2048  \n",
       "1       1496          2048  \n",
       "2       1496          2048  \n",
       "3       1496          2048  \n",
       "4       1496          2048  \n",
       "...      ...           ...  \n",
       "1195    1437          2048  \n",
       "1196      69          2048  \n",
       "1197    1500          2048  \n",
       "1198    1500          2048  \n",
       "1199    1500          2048  \n",
       "\n",
       "[1200 rows x 20 columns]"
      ],
      "text/html": "<div>\n<style scoped>\n    .dataframe tbody tr th:only-of-type {\n        vertical-align: middle;\n    }\n\n    .dataframe tbody tr th {\n        vertical-align: top;\n    }\n\n    .dataframe thead th {\n        text-align: right;\n    }\n</style>\n<table border=\"1\" class=\"dataframe\">\n  <thead>\n    <tr style=\"text-align: right;\">\n      <th></th>\n      <th>Type</th>\n      <th>SFlowAgentAddr</th>\n      <th>InputPort</th>\n      <th>OutputPort</th>\n      <th>srcMAC</th>\n      <th>dstMAC</th>\n      <th>EthernetType</th>\n      <th>InVLAN</th>\n      <th>OutVLAN</th>\n      <th>SrcIP</th>\n      <th>DstIP</th>\n      <th>IPProtocol</th>\n      <th>IpTOS</th>\n      <th>IpTTL</th>\n      <th>UDPSrcPort</th>\n      <th>UDPDstPort</th>\n      <th>TCPFlags</th>\n      <th>PacketSize</th>\n      <th>IPSize</th>\n      <th>SamplingRate</th>\n    </tr>\n  </thead>\n  <tbody>\n    <tr>\n      <th>0</th>\n      <td>FLOW</td>\n      <td>aa.aa.aa.aa</td>\n      <td>258</td>\n      <td>20</td>\n      <td>204e71cf1b0f</td>\n      <td>002438aa0a00</td>\n      <td>0x0800</td>\n      <td>3012.0</td>\n      <td>3012</td>\n      <td>152.3.219.19</td>\n      <td>198.71.44.98</td>\n      <td>50</td>\n      <td>0x00</td>\n      <td>245</td>\n      <td>0.0</td>\n      <td>0</td>\n      <td>0x00</td>\n      <td>1518</td>\n      <td>1496</td>\n      <td>2048</td>\n    </tr>\n    <tr>\n      <th>1</th>\n      <td>FLOW</td>\n      <td>aa.aa.aa.aa</td>\n      <td>258</td>\n      <td>20</td>\n      <td>204e71cf1b0f</td>\n      <td>002438aa0a00</td>\n      <td>0x0800</td>\n      <td>3012.0</td>\n      <td>3012</td>\n      <td>152.3.219.19</td>\n      <td>198.71.44.98</td>\n      <td>50</td>\n      <td>0x00</td>\n      <td>245</td>\n      <td>0.0</td>\n      <td>0</td>\n      <td>0x00</td>\n      <td>1518</td>\n      <td>1496</td>\n      <td>2048</td>\n    </tr>\n    <tr>\n      <th>2</th>\n      <td>FLOW</td>\n      <td>aa.aa.aa.aa</td>\n      <td>258</td>\n      <td>20</td>\n      <td>204e71cf1b0f</td>\n      <td>002438aa0a00</td>\n      <td>0x0800</td>\n      <td>3012.0</td>\n      <td>3012</td>\n      <td>152.3.219.19</td>\n      <td>198.71.44.98</td>\n      <td>50</td>\n      <td>0x00</td>\n      <td>245</td>\n      <td>0.0</td>\n      <td>0</td>\n      <td>0x00</td>\n      <td>1518</td>\n      <td>1496</td>\n      <td>2048</td>\n    </tr>\n    <tr>\n      <th>3</th>\n      <td>FLOW</td>\n      <td>aa.aa.aa.aa</td>\n      <td>258</td>\n      <td>20</td>\n      <td>204e71cf1b0f</td>\n      <td>002438aa0a00</td>\n      <td>0x0800</td>\n      <td>3012.0</td>\n      <td>3012</td>\n      <td>152.3.219.19</td>\n      <td>198.71.44.98</td>\n      <td>50</td>\n      <td>0x00</td>\n      <td>245</td>\n      <td>0.0</td>\n      <td>0</td>\n      <td>0x00</td>\n      <td>1518</td>\n      <td>1496</td>\n      <td>2048</td>\n    </tr>\n    <tr>\n      <th>4</th>\n      <td>FLOW</td>\n      <td>aa.aa.aa.aa</td>\n      <td>258</td>\n      <td>20</td>\n      <td>204e71cf1b0f</td>\n      <td>002438aa0a00</td>\n      <td>0x0800</td>\n      <td>3012.0</td>\n      <td>3012</td>\n      <td>152.3.219.19</td>\n      <td>198.71.44.98</td>\n      <td>50</td>\n      <td>0x00</td>\n      <td>245</td>\n      <td>0.0</td>\n      <td>0</td>\n      <td>0x00</td>\n      <td>1518</td>\n      <td>1496</td>\n      <td>2048</td>\n    </tr>\n    <tr>\n      <th>...</th>\n      <td>...</td>\n      <td>...</td>\n      <td>...</td>\n      <td>...</td>\n      <td>...</td>\n      <td>...</td>\n      <td>...</td>\n      <td>...</td>\n      <td>...</td>\n      <td>...</td>\n      <td>...</td>\n      <td>...</td>\n      <td>...</td>\n      <td>...</td>\n      <td>...</td>\n      <td>...</td>\n      <td>...</td>\n      <td>...</td>\n      <td>...</td>\n      <td>...</td>\n    </tr>\n    <tr>\n      <th>1195</th>\n      <td>FLOW</td>\n      <td>aa.aa.aa.aa</td>\n      <td>19</td>\n      <td>21</td>\n      <td>e00eda07c0ff</td>\n      <td>28c0da0117ca</td>\n      <td>0x0800</td>\n      <td>102.0</td>\n      <td>2121</td>\n      <td>202.21.158.254</td>\n      <td>175.156.15.109</td>\n      <td>47</td>\n      <td>0x00</td>\n      <td>124</td>\n      <td>32665.0</td>\n      <td>443</td>\n      <td>0x10</td>\n      <td>1459</td>\n      <td>1437</td>\n      <td>2048</td>\n    </tr>\n    <tr>\n      <th>1196</th>\n      <td>FLOW</td>\n      <td>aa.aa.aa.aa</td>\n      <td>3</td>\n      <td>14</td>\n      <td>00235ed9b680</td>\n      <td>8cb64fe6b643</td>\n      <td>0x0800</td>\n      <td>691.0</td>\n      <td>691</td>\n      <td>123.136.64.58</td>\n      <td>165.21.83.88</td>\n      <td>17</td>\n      <td>0x00</td>\n      <td>121</td>\n      <td>42128.0</td>\n      <td>53</td>\n      <td>0x10</td>\n      <td>91</td>\n      <td>69</td>\n      <td>2048</td>\n    </tr>\n    <tr>\n      <th>1197</th>\n      <td>FLOW</td>\n      <td>aa.aa.aa.aa</td>\n      <td>3</td>\n      <td>14</td>\n      <td>00235ed9b680</td>\n      <td>8cb64fe6b643</td>\n      <td>0x0800</td>\n      <td>691.0</td>\n      <td>691</td>\n      <td>202.6.242.63</td>\n      <td>198.143.33.121</td>\n      <td>6</td>\n      <td>0x00</td>\n      <td>124</td>\n      <td>443.0</td>\n      <td>42215</td>\n      <td>0x10</td>\n      <td>1522</td>\n      <td>1500</td>\n      <td>2048</td>\n    </tr>\n    <tr>\n      <th>1198</th>\n      <td>FLOW</td>\n      <td>aa.aa.aa.aa</td>\n      <td>258</td>\n      <td>130</td>\n      <td>204e71cf1b0f</td>\n      <td>00239cd087c1</td>\n      <td>0x0800</td>\n      <td>537.0</td>\n      <td>919</td>\n      <td>171.67.76.38</td>\n      <td>137.132.3.10</td>\n      <td>6</td>\n      <td>0x00</td>\n      <td>56</td>\n      <td>80.0</td>\n      <td>2182</td>\n      <td>0x10</td>\n      <td>1522</td>\n      <td>1500</td>\n      <td>2048</td>\n    </tr>\n    <tr>\n      <th>1199</th>\n      <td>FLOW</td>\n      <td>aa.aa.aa.aa</td>\n      <td>258</td>\n      <td>199</td>\n      <td>204e71cf1b0f</td>\n      <td>ccef48570144</td>\n      <td>0x0800</td>\n      <td>537.0</td>\n      <td>601</td>\n      <td>207.241.228.157</td>\n      <td>210.48.222.9</td>\n      <td>6</td>\n      <td>0x00</td>\n      <td>56</td>\n      <td>443.0</td>\n      <td>57424</td>\n      <td>0x10</td>\n      <td>1522</td>\n      <td>1500</td>\n      <td>2048</td>\n    </tr>\n  </tbody>\n</table>\n<p>1200 rows × 20 columns</p>\n</div>"
     },
     "metadata": {},
     "execution_count": 2
    }
   ],
   "source": [
    "df = pd.read_csv('SFLow_data_sample.csv.csv', names=['Type', 'SFlowAgentAddr', 'InputPort', 'OutputPort', 'srcMAC', 'dstMAC', 'EthernetType', 'InVLAN', 'OutVLAN', 'SrcIP', 'DstIP', 'IPProtocol', 'IpTOS', 'IpTTL', 'UDPSrcPort', 'UDPDstPort', 'TCPFlags', 'PacketSize', 'IPSize', 'SamplingRate'], index_col=False)\n",
    "df"
   ]
  },
  {
   "source": [
    "# EXERCISE 4A: TOP TALKERS AND LISTENERS"
   ],
   "cell_type": "markdown",
   "metadata": {}
  },
  {
   "cell_type": "code",
   "execution_count": 3,
   "metadata": {},
   "outputs": [],
   "source": [
    "import json\n",
    "\n",
    "def get_org(ip):\n",
    "    url = \"https://ipapi.co/\" + ip + \"/json/\"\n",
    "    resp = requests.get(url).text\n",
    "\n",
    "    try:\n",
    "        jsonObj = json.loads(resp)\n",
    "        return jsonObj['org']\n",
    "    except:\n",
    "        return ''"
   ]
  },
  {
   "cell_type": "code",
   "execution_count": 4,
   "metadata": {},
   "outputs": [
    {
     "output_type": "execute_result",
     "data": {
      "text/plain": [
       "             SrcIP  SrcIP_Packet_Count           Organisation\n",
       "0     152.3.219.19                 126       DUKE-INTERCHANGE\n",
       "1  207.241.228.157                  66       INTERNET-ARCHIVE\n",
       "2    130.14.250.13                  63                 NLM-GW\n",
       "3     193.62.192.8                  46  Jisc Services Limited\n",
       "4   192.122.131.36                  40                 A-STAR"
      ],
      "text/html": "<div>\n<style scoped>\n    .dataframe tbody tr th:only-of-type {\n        vertical-align: middle;\n    }\n\n    .dataframe tbody tr th {\n        vertical-align: top;\n    }\n\n    .dataframe thead th {\n        text-align: right;\n    }\n</style>\n<table border=\"1\" class=\"dataframe\">\n  <thead>\n    <tr style=\"text-align: right;\">\n      <th></th>\n      <th>SrcIP</th>\n      <th>SrcIP_Packet_Count</th>\n      <th>Organisation</th>\n    </tr>\n  </thead>\n  <tbody>\n    <tr>\n      <th>0</th>\n      <td>152.3.219.19</td>\n      <td>126</td>\n      <td>DUKE-INTERCHANGE</td>\n    </tr>\n    <tr>\n      <th>1</th>\n      <td>207.241.228.157</td>\n      <td>66</td>\n      <td>INTERNET-ARCHIVE</td>\n    </tr>\n    <tr>\n      <th>2</th>\n      <td>130.14.250.13</td>\n      <td>63</td>\n      <td>NLM-GW</td>\n    </tr>\n    <tr>\n      <th>3</th>\n      <td>193.62.192.8</td>\n      <td>46</td>\n      <td>Jisc Services Limited</td>\n    </tr>\n    <tr>\n      <th>4</th>\n      <td>192.122.131.36</td>\n      <td>40</td>\n      <td>A-STAR</td>\n    </tr>\n  </tbody>\n</table>\n</div>"
     },
     "metadata": {},
     "execution_count": 4
    }
   ],
   "source": [
    "top_talkers = pd.DataFrame(df['SrcIP'].value_counts()).reset_index()\n",
    "top_talkers.columns = ['SrcIP', 'SrcIP_Packet_Count']\n",
    "top_talkers = top_talkers.nlargest(5, 'SrcIP_Packet_Count')\n",
    "top_talkers['Organisation'] = top_talkers['SrcIP'].apply(get_org)\n",
    "top_talkers"
   ]
  },
  {
   "cell_type": "code",
   "execution_count": 6,
   "metadata": {},
   "outputs": [
    {
     "output_type": "execute_result",
     "data": {
      "text/plain": [
       "            DstIP  DstIP_Packet_Count           Organisation\n",
       "0    198.71.44.98                 126       DUKE-INTERCHANGE\n",
       "1  103.37.198.100                  98       INTERNET-ARCHIVE\n",
       "2    210.48.222.9                  66                 NLM-GW\n",
       "3  137.132.228.15                  50  Jisc Services Limited\n",
       "4  202.21.159.244                  38                 A-STAR"
      ],
      "text/html": "<div>\n<style scoped>\n    .dataframe tbody tr th:only-of-type {\n        vertical-align: middle;\n    }\n\n    .dataframe tbody tr th {\n        vertical-align: top;\n    }\n\n    .dataframe thead th {\n        text-align: right;\n    }\n</style>\n<table border=\"1\" class=\"dataframe\">\n  <thead>\n    <tr style=\"text-align: right;\">\n      <th></th>\n      <th>DstIP</th>\n      <th>DstIP_Packet_Count</th>\n      <th>Organisation</th>\n    </tr>\n  </thead>\n  <tbody>\n    <tr>\n      <th>0</th>\n      <td>198.71.44.98</td>\n      <td>126</td>\n      <td>DUKE-INTERCHANGE</td>\n    </tr>\n    <tr>\n      <th>1</th>\n      <td>103.37.198.100</td>\n      <td>98</td>\n      <td>INTERNET-ARCHIVE</td>\n    </tr>\n    <tr>\n      <th>2</th>\n      <td>210.48.222.9</td>\n      <td>66</td>\n      <td>NLM-GW</td>\n    </tr>\n    <tr>\n      <th>3</th>\n      <td>137.132.228.15</td>\n      <td>50</td>\n      <td>Jisc Services Limited</td>\n    </tr>\n    <tr>\n      <th>4</th>\n      <td>202.21.159.244</td>\n      <td>38</td>\n      <td>A-STAR</td>\n    </tr>\n  </tbody>\n</table>\n</div>"
     },
     "metadata": {},
     "execution_count": 6
    }
   ],
   "source": [
    "top_listeners = pd.DataFrame(df['DstIP'].value_counts()).reset_index()\n",
    "top_listeners.columns = ['DstIP', 'DstIP_Packet_Count']\n",
    "top_listeners = top_listeners.nlargest(5, 'DstIP_Packet_Count')\n",
    "top_listeners['Organisation'] = top_talkers['SrcIP'].apply(get_org)\n",
    "top_listeners"
   ]
  },
  {
   "source": [
    "# EXERCISE 4B: TRANSPORT PROTOCOL"
   ],
   "cell_type": "markdown",
   "metadata": {}
  },
  {
   "cell_type": "code",
   "execution_count": 10,
   "metadata": {},
   "outputs": [
    {
     "output_type": "execute_result",
     "data": {
      "text/plain": [
       "array([ 50,   6,  17,   0,  47,  41,   1, 381], dtype=int64)"
      ]
     },
     "metadata": {},
     "execution_count": 10
    }
   ],
   "source": [
    "allProtocols = df.IPProtocol.unique()\n",
    "allProtocols"
   ]
  },
  {
   "cell_type": "code",
   "execution_count": 8,
   "metadata": {},
   "outputs": [],
   "source": [
    "ip_protocol_dict = {\n",
    "    50: \"ESP\",\n",
    "    6: \"TCP\",\n",
    "    17: \"UDP\",\n",
    "    0: \"HOPOPT\",\n",
    "    47: \"GRE\",\n",
    "    41: \"IPv6\",\n",
    "    1: \"ICMP\",\n",
    "    381: \"Reserved\"\n",
    "}\n",
    "\n",
    "selected_protocols = [\"TCP\", \"UDP\"]"
   ]
  },
  {
   "cell_type": "code",
   "execution_count": 11,
   "metadata": {},
   "outputs": [
    {
     "output_type": "stream",
     "name": "stdout",
     "text": [
      "TCP\nCount:  879\nPercentage:  73.25\nUDP\nCount:  135\nPercentage:  11.25\n"
     ]
    }
   ],
   "source": [
    "total_count = len(df)\n",
    "for protocol in allProtocols:\n",
    "    if ip_protocol_dict[protocol] in selected_protocols:\n",
    "        print(ip_protocol_dict[protocol])\n",
    "        packetsWithSameProtocol = df[df[\"IPProtocol\"] == protocol]\n",
    "        count = len(packetsWithSameProtocol)\n",
    "        percentage = count / total_count * 100\n",
    "        print(\"Count: \", count)\n",
    "        print(\"Percentage: \", percentage)"
   ]
  },
  {
   "source": [
    "# EXERCISE 4C: APPLICATIONS PROTOCOL"
   ],
   "cell_type": "markdown",
   "metadata": {}
  },
  {
   "cell_type": "code",
   "execution_count": 13,
   "metadata": {},
   "outputs": [
    {
     "output_type": "execute_result",
     "data": {
      "text/plain": [
       "     Destination_IP_Port_Number  Packet_Count\n",
       "0                           443           234\n",
       "1                         56152            82\n",
       "2                             0            82\n",
       "3                         43930            45\n",
       "4                            80            37\n",
       "..                          ...           ...\n",
       "285                         993             1\n",
       "286                       41133             1\n",
       "287                       59747             1\n",
       "288                       49317             1\n",
       "289                       33948             1\n",
       "\n",
       "[290 rows x 2 columns]"
      ],
      "text/html": "<div>\n<style scoped>\n    .dataframe tbody tr th:only-of-type {\n        vertical-align: middle;\n    }\n\n    .dataframe tbody tr th {\n        vertical-align: top;\n    }\n\n    .dataframe thead th {\n        text-align: right;\n    }\n</style>\n<table border=\"1\" class=\"dataframe\">\n  <thead>\n    <tr style=\"text-align: right;\">\n      <th></th>\n      <th>Destination_IP_Port_Number</th>\n      <th>Packet_Count</th>\n    </tr>\n  </thead>\n  <tbody>\n    <tr>\n      <th>0</th>\n      <td>443</td>\n      <td>234</td>\n    </tr>\n    <tr>\n      <th>1</th>\n      <td>56152</td>\n      <td>82</td>\n    </tr>\n    <tr>\n      <th>2</th>\n      <td>0</td>\n      <td>82</td>\n    </tr>\n    <tr>\n      <th>3</th>\n      <td>43930</td>\n      <td>45</td>\n    </tr>\n    <tr>\n      <th>4</th>\n      <td>80</td>\n      <td>37</td>\n    </tr>\n    <tr>\n      <th>...</th>\n      <td>...</td>\n      <td>...</td>\n    </tr>\n    <tr>\n      <th>285</th>\n      <td>993</td>\n      <td>1</td>\n    </tr>\n    <tr>\n      <th>286</th>\n      <td>41133</td>\n      <td>1</td>\n    </tr>\n    <tr>\n      <th>287</th>\n      <td>59747</td>\n      <td>1</td>\n    </tr>\n    <tr>\n      <th>288</th>\n      <td>49317</td>\n      <td>1</td>\n    </tr>\n    <tr>\n      <th>289</th>\n      <td>33948</td>\n      <td>1</td>\n    </tr>\n  </tbody>\n</table>\n<p>290 rows × 2 columns</p>\n</div>"
     },
     "metadata": {},
     "execution_count": 13
    }
   ],
   "source": [
    "destination_df = pd.DataFrame(df[\"UDPDstPort\"].value_counts()).reset_index()\n",
    "destination_df.columns = [\"Destination_IP_Port_Number\", \"Packet_Count\"]\n",
    "destination_df.sort_values(by=[\"Packet_Count\"])\n",
    "destination_df"
   ]
  },
  {
   "source": [
    "# EXERCISE 4D: TRAFFIC"
   ],
   "cell_type": "markdown",
   "metadata": {}
  },
  {
   "cell_type": "code",
   "execution_count": 16,
   "metadata": {},
   "outputs": [
    {
     "output_type": "stream",
     "name": "stdout",
     "text": [
      "Total Traffic: 128.7320852279663 MB\n"
     ]
    }
   ],
   "source": [
    "sampling_rate = 1/1000\n",
    "total_size_bits = df['IPSize'].sum()\n",
    "total_size_megabyte = total_size_bits / 1024 / 1024 / 8\n",
    "total_traffic = total_size_megabyte / sampling_rate\n",
    "\n",
    "print(f\"Total Traffic: {total_traffic} MB\")"
   ]
  },
  {
   "source": [
    "# EXERCISE 4E: ADDITIONAL ANALYSIS"
   ],
   "cell_type": "markdown",
   "metadata": {}
  },
  {
   "cell_type": "code",
   "execution_count": null,
   "metadata": {},
   "outputs": [],
   "source": []
  }
 ],
 "metadata": {
  "kernelspec": {
   "name": "python3",
   "display_name": "Python 3.9.1 64-bit",
   "metadata": {
    "interpreter": {
     "hash": "4ce0e62306dd6a5716965d4519ada776f947e6dfc145b604b11307c10277ef29"
    }
   }
  }
 },
 "nbformat": 4,
 "nbformat_minor": 5
}